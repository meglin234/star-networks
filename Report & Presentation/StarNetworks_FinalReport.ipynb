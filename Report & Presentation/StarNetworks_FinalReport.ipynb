{
  "nbformat": 4,
  "nbformat_minor": 0,
  "metadata": {
    "colab": {
      "provenance": []
    },
    "kernelspec": {
      "name": "python3",
      "display_name": "Python 3"
    },
    "language_info": {
      "name": "python"
    }
  },
  "cells": [
    {
      "cell_type": "markdown",
      "source": [
        "[![Open in Colab](https://colab.research.google.com/assets/colab-badge.svg)](https://colab.research.google.com/drive/1q5YmddNAX8D7pM187k2qetHBUwkTj4ct?usp=sharing)"
      ],
      "metadata": {
        "id": "L_J-4X_o35hM"
      }
    },
    {
      "cell_type": "markdown",
      "source": [
        "# StarNetworks Report "
      ],
      "metadata": {
        "id": "fsZJvZWfOMGk"
      }
    },
    {
      "cell_type": "markdown",
      "source": [
        "## Project Goal: \n",
        "Explore the phenomenon of long-standing working relationships between crew members and directors and identify trends in the feature-film movie industry, such as the regularity with which the same director reuses crew members."
      ],
      "metadata": {
        "id": "30o5FRXeNvm0"
      }
    },
    {
      "cell_type": "markdown",
      "source": [
        "## Introduction\n",
        "\n"
      ],
      "metadata": {
        "id": "FN5PzW2gN51J"
      }
    },
    {
      "cell_type": "markdown",
      "source": [
        "Some renowned film directors have a long-standing working relationship with key collaborators. For example, Wes Anderson and Alexandre Desplat have collaborated on several films, including \"The French Dispatch,\" \"Isle of Dogs,\" and \"The Grand Budapest Hotel.\" It is not uncommon for directors to work with the same cinematographers, production designers, or editors across multiple projects. These role recurrences for a singular director may be common practice in the film industry, as they allow directors to establish a consistent artistic vision. These frequent collaborations may foster a sense of trust and understanding between the director and crewmember, resulting in a distinct artistic style associated with the director. This practice can be observed in both male and female directors, where female directors also form long-standing partnerships with professionals that share their artistic vision."
      ],
      "metadata": {
        "id": "S2STFOkMRymN"
      }
    },
    {
      "cell_type": "markdown",
      "source": [
        "## Methodology "
      ],
      "metadata": {
        "id": "2ps81KYVNr4l"
      }
    },
    {
      "cell_type": "markdown",
      "source": [
        "### Data Extraction"
      ],
      "metadata": {
        "id": "deJZtaazOYDP"
      }
    },
    {
      "cell_type": "markdown",
      "source": [
        "#### The main() Function"
      ],
      "metadata": {
        "id": "9el3XfyWe-D2"
      }
    },
    {
      "cell_type": "markdown",
      "source": [
        "In order to answer our research questions, we first needed a dataset of directors and their crew members. To accomplish this task, we wrote a Python script titled \"data_extraction.py\", that takes a file containing directors and their information (\"100_film_directors.csv\"), gets the crew members each director has worked with using \"imdb_scraper.py\", and stores the extracted data into a nested folder structure. The \"main()\" function, supported by the other function in the Python script, is responsible for reading \"100_film_directors.csv\" and extracting all the relevant director-crew data at once. This function represents the overall logic and thought process that went into writing the code and accomplishing the data extraction subtask. A simple explanation of the \"main()\" function is provided in the pseudocode below. For more details about the code, please refer to the code for the \"main()\" function, also provided below, and the Python script \"data_extraction.py\"."
      ],
      "metadata": {
        "id": "8PcYJvxsc-Da"
      }
    },
    {
      "cell_type": "code",
      "source": [
        "# pseudocode of main()\n",
        "  # open the file containing the director information\n",
        "    # create a folder name \"director_crew_info\" in your current directory\n",
        "    # go inside the folder \"director_crew_info\"\n",
        "    # for each director in the file:\n",
        "      # make dictionary with director information (Last Name, First Name, Sex, Ethnicity, Labels, Director ID, etc.)\n",
        "      # attempt to make director folder; if director folder already exists, continue to the next director\n",
        "      # go inside the director folder\n",
        "        # write the dictionary containing director information into a json file\n",
        "        # create folder named \"movies\"\n",
        "        # go inside the folder \"movies\"\n",
        "        # try:\n",
        "          # get a list of feature films or works that the director has directed using imdb_scraper.py\n",
        "          # iterate through each movie or work and obtain the crew using imdb_scaper.py\n",
        "          # write the movie data and crew data into a jsonl file\n",
        "        # if fail:\n",
        "          # inform the user of the director that the code failed to extract the director-crew information for"
      ],
      "metadata": {
        "id": "T4VrwtxceHUb"
      },
      "execution_count": null,
      "outputs": []
    },
    {
      "cell_type": "code",
      "source": [
        "# create the director crew dataset for multiple directors\n",
        "# filename: name of the file that includes information about the directors\n",
        "# exclude_non_feature_film: True will exclude the non-feature-films (non-films or films that are less than 70 min long) from the list of films. False will\n",
        "                            # will keep all the works of the director\n",
        "# increment: how many directors to get the dataset for at a time; pass in 0 if you would like to get the dataset for all the directors at once\n",
        "def main(filename, exclude_non_feature_films, increment=0):\n",
        "    director_categories=[]\n",
        "    with open(filename,\"r\", encoding = \"utf-8\") as data:  \n",
        "        # create a folder named \"director_crew_info\" in the directory you're currently in\n",
        "        util.create_folder(os.getcwd(), \"director_crew_info\")\n",
        "        # go inside the folder, \"director_crew_info\"\n",
        "        path=os.getcwd()+\"\\\\director_crew_info\"\n",
        "        os.chdir(path)\n",
        "\n",
        "        counter=-1\n",
        "        # iterate through all the directors\n",
        "        for line in data:\n",
        "            if counter==-1:\n",
        "                director_categories = line.split(',')\n",
        "                counter += 1\n",
        "                continue\n",
        "\n",
        "            print(line.replace(\"\\n\", \"\"))\n",
        "\n",
        "            # make a dictionary containing information about the director {Last Name: val, First Name: val, Sex: val, Ethnicity: val, Labels: val, Director Id: val, ...}\n",
        "            director_info=make_director_info_dict(line, director_categories)\n",
        "            director_id=director_info[\"Director Id\"]\n",
        "            # create a folder named with the director id; if a folder for a director already exists, move on to the next director\n",
        "            if util.create_folder(path, director_id):\n",
        "                continue\n",
        "            # go inside the director folder\n",
        "            os.chdir(path+\"\\\\\"+director_id)\n",
        "            # write the json file for the director information\n",
        "            util.write_json(director_id+\".json\", director_info)\n",
        "            # create a folder named \"movies\n",
        "            util.create_folder(os.getcwd(), \"movies\")\n",
        "            # go inside the folder, \"movies\"\n",
        "            os.chdir(os.getcwd()+\"\\\\movies\")\n",
        "            try:\n",
        "                # get a list of feature films or works that the director has directed\n",
        "                movie_info_list=get_list_of_films_for_director(director_id, exclude_non_feature_films)\n",
        "                print(len(movie_info_list),\"films\\n\")\n",
        "                # iterate through each movie or work and create a jsonl file that contains information about the movie's crew\n",
        "                for movie in movie_info_list:\n",
        "                    movie_id=movie[\"movie id\"]\n",
        "                    movie_crew_info=get_movie_crew(movie_id)\n",
        "                    write_crew_data_to_movie_file(movie, movie_crew_info, movie_id+\".jsonl\")\n",
        "            except KeyError:\n",
        "                print(\"failed to get director-crew relationship for \"+director_id+\"\\n\")\n",
        "                continue\n",
        "            counter+=1\n",
        "            if counter==increment:\n",
        "                break\n",
        "        # the final value assigned to counter should indicate for how many directors the data extraction successful for\n",
        "        print(counter)"
      ],
      "metadata": {
        "id": "LXE_Io3s4QBw"
      },
      "execution_count": null,
      "outputs": []
    },
    {
      "cell_type": "markdown",
      "source": [
        "#### Data Storage"
      ],
      "metadata": {
        "id": "2SDaApwUfCV2"
      }
    },
    {
      "cell_type": "markdown",
      "source": [
        "We decided to store our data in json and jsonl files. Specifically, each director's information (e.g. nm0000095.json) and movie-crew information (e.g. tt0061177.jsonl) was stored in json and jsonl files, respectively. Json files and objects were compatible with our code since our data extraction code often utilized dictionaries to store data. "
      ],
      "metadata": {
        "id": "_I1S6dGkc-P5"
      }
    },
    {
      "cell_type": "markdown",
      "source": [],
      "metadata": {
        "id": "cDj8MYrGfFqd"
      }
    },
    {
      "cell_type": "markdown",
      "source": [
        "The director-crew relationship data is stored within a nested file structure:\n",
        "\n",
        "Folder Structure Visualization:\n",
        "\n",
        "![\\label{fig: folder_structure_visualization}](https://drive.google.com/uc?id=1If8LpJwtgV0ImFo39ET2P7l2MRGLJgix)\n",
        "\n",
        "Inside the folder \"director_crew_info:\"\n",
        "\n",
        "![\\label{fig:web-growth}](https://drive.google.com/uc?id=10bIlqN5vNpH3qJfUCGJscaVcgRTeh4eP)\n",
        "\n",
        "\n",
        "Inside the folder \"nm0000095:\"\n",
        "![\\label{fig:web-growth}](https://drive.google.com/uc?id=15GVQrZDE2RlCoEkUfoDZQxWbRWBqgAQ3)\n",
        "\n",
        "Inside the feature_films folder of \"nm0000095:\"\n",
        "\n",
        "![\\label{fig:web-growth}](https://drive.google.com/uc?id=100aqmmdmRW3jZYWwSsPnibYuP3ZHI4h8)\n",
        "\n",
        "\n",
        "\n",
        "\n",
        "\n",
        "\n"
      ],
      "metadata": {
        "id": "SY44IM1K6YbS"
      }
    },
    {
      "cell_type": "markdown",
      "source": [
        "#### Command Line Arguments\n"
      ],
      "metadata": {
        "id": "IkUHdDHwflLi"
      }
    },
    {
      "cell_type": "markdown",
      "source": [
        "The reusability of the data extraction Python script is an essential feature of our code. We wanted to make sure that \"data_extraction.py\" could be used for different but similar projects and customized by the user to fit their needs. To do this, we added command line arguments with the help of the argparse module. The Python script \"data_extraction.py\" includes one required and three optional command line arguments.\n",
        "\n",
        "\n",
        "1.   The first and only required argument that \"data_extraction.py\" takes is the filename of an input file containing directors and their information. In the case of this specific project, our file was called \"100_film_directors.csv.\" Our code will work with any .csv file that contains the same categories as \"100_film_directors.csv\" (i.e., LastName, FirstName, Sex, Ethnicity_Race, Labels, and IMDb_URI). If there is no value, you may write in its place an empty string. However, for the Python script to work, there must be a valid IMDb_URI for every director in the file. Additional categories may be added after the required categories if desired. The following snippet of code in the \"make_director_info_dict\" function is written specifically to allow for additional categories:"
      ],
      "metadata": {
        "id": "SNh81AEVT1hL"
      }
    },
    {
      "cell_type": "code",
      "source": [
        "if len(categories)>6:\n",
        "        for i in range(6, len(categories)):\n",
        "            director_info[categories[i]]=director_info_list[i]"
      ],
      "metadata": {
        "id": "WglvbHvNWYVW"
      },
      "execution_count": null,
      "outputs": []
    },
    {
      "cell_type": "markdown",
      "source": [
        "2.   The second argument, \"-enff\", excludes non-feature films from the data set. Non-feature films are movies with a minimum length of 70 minutes.\n",
        "\n",
        "3.   The third argument, -d, takes ONE director ID and gets the director-crew data for that specific director. This argument serves as a fail-safe for any runtime errors that occur while extracting the data for a specific director.\n",
        "\n",
        "4.   The last argument, -i, is the number of directors the user would like to run the data extraction for at a time. By default, -i is set to 0, which will run the data extraction python script for all directors at a time.\n",
        "\n"
      ],
      "metadata": {
        "id": "2j7pmFoYWWph"
      }
    },
    {
      "cell_type": "code",
      "source": [
        "if __name__ == \"__main__\":\n",
        "    parser=argparse.ArgumentParser()\n",
        "    parser.add_argument(\"filename\", help=\"the filename that contains information about all the directors\", type=str)\n",
        "    parser.add_argument(\"-enff\", \"--exclude_non_feature_films\", help=\"exclude works that are not feature films (movies over 70 minutes long)\", action=\"store_true\")\n",
        "    parser.add_argument(\"-d\", \"--director\", help=\"pass in the director id (from imdb) to get the director-crew relationship data (for only ONE director)\", type=str)\n",
        "    parser.add_argument(\"-i\", \"--increment\", help=\"the number of directors at a time you want to run the data extraction for\", type=int)\n",
        "    args=parser.parse_args()\n",
        "    if args.director is None:\n",
        "        if (args.increment is None):\n",
        "            main(args.filename, args.exclude_non_feature_films)\n",
        "        else:\n",
        "            main(args.filename, args.exclude_non_feature_films, args.increment)\n",
        "    else:\n",
        "        get_director_crew_relationship_for_one(args.director, args.filename, args.exclude_non_feature_films)"
      ],
      "metadata": {
        "id": "x2w-8XrWZPwZ"
      },
      "execution_count": null,
      "outputs": []
    },
    {
      "cell_type": "markdown",
      "source": [],
      "metadata": {
        "id": "vMbVxynMgdpm"
      }
    },
    {
      "cell_type": "markdown",
      "source": [
        "### Network Generation\n",
        "\n"
      ],
      "metadata": {
        "id": "uF70nyPtOYGs"
      }
    },
    {
      "cell_type": "markdown",
      "source": [
        "Before writing code, we knew we needed to implement several modular functions to succeed. We previously decided on a bipartite network with directed, weighted components. The implementation, however, was much more difficult than we previously thought. We first connected directors and crew members plainly with outright weights by iterating over the director files and creating these relationships for each movie, where the weight would increase if there were multiple instances of a certain director working with the same crew member. \n",
        "\n",
        "The next goal was to assign attributes to directors and crew members, which we accomplished promptly. The attributes of crew members consist of their role (Makeup Department, Animation, etc.), as well as an attribute that declares them a crew member, as opposed to a director. The addition of attributes for crew members is incorporated into the function that creates the overall network, as certain attributes, such as sex or race, were included in a different json file that we had to parse. "
      ],
      "metadata": {
        "id": "QLCb6Y6TR2Pl"
      }
    },
    {
      "cell_type": "code",
      "source": [
        "def set_dir_attr(G, dir_id, dir_credits): # sets attributes for the director\n",
        "    with open(dir_credits, 'r') as f:\n",
        "        dir_credits_json = json.load(f) # load json file\n",
        "        name = dir_credits_json['First Name'] + ' ' + dir_credits_json['Last Name'] \n",
        "        del dir_credits_json['First Name'] # remove first and last name keys\n",
        "        del dir_credits_json['Last Name']\n",
        "        dir_credits_json['name'] = name # add new name key that combines first and last nam\n",
        "        # Set the node type to 'director' only if it is not already set or if it is currently set to 'crew'\n",
        "        dir_credits_json['type'] = 'director'\n",
        "        nx.set_node_attributes(G, {dir_id: dir_credits_json}) # set director attribute"
      ],
      "metadata": {
        "id": "rmTGSDo7W_xp"
      },
      "execution_count": 1,
      "outputs": []
    },
    {
      "cell_type": "markdown",
      "source": [
        "We then used Dr. Nwala's guidance to normalize roles, including only nine out of the overall 25+.  The normalization function keeps all the wanted roles, and it is read into the terminal as an argument. "
      ],
      "metadata": {
        "id": "eq3qmqXhXDwb"
      }
    },
    {
      "cell_type": "markdown",
      "source": [
        "\n",
        "\n",
        "```\n",
        "python gen_networkFINAL.py -er \"Additional Crew, Animation Department, Art Department, Art Direction by, Camera and Electrical \n",
        "                                 Department, Cast, Casting By, Casting Department, Costume and Wardrobe Department, Editorial \n",
        "                                 Department, Location Management, Music Department, Produced by, Production Department, \n",
        "                                 Production Management, Visual Effects by, Script and Continuity Department, \n",
        "                                 Second Unit Director or Assistant Director, Set Decoration by, Stunts, \n",
        "                                 Thanks, Transportation Department\" -n\n",
        "\n",
        "```\n",
        "\n"
      ],
      "metadata": {
        "id": "_GKwqz-GXeHt"
      }
    },
    {
      "cell_type": "markdown",
      "source": [
        "Finally, we created a metric to calculate the edge weights between director and crew members. The weight was calculated as: "
      ],
      "metadata": {
        "id": "e4ikjxD2Xljv"
      }
    },
    {
      "cell_type": "markdown",
      "source": [
        "$$\\displaystyle\\frac{\\mbox{crew members's recurrence for a role}}{\\mbox{number of movies that role occurred for each director}}$$"
      ],
      "metadata": {
        "id": "9ey-E3YQa1uR"
      }
    },
    {
      "cell_type": "code",
      "source": [
        "def assign_weights_to_crew(role_frequency_for_crew, role_frequency_among_movies, dir_id, G):\n",
        "    for role, crew_dist in role_frequency_for_crew.items(): # iterates over frequency of roles\n",
        "        for crew_id, co_feat_count in crew_dist.items(): # iterate over crewmembers\n",
        "            #if crew member is credited for more than one role\n",
        "            if ('role' in G.get_edge_data(dir_id,crew_id).keys()) and (G.edges[dir_id, crew_id]['role'] != role):\n",
        "                if co_feat_count<=G[dir_id][crew_id]['weight']:\n",
        "                    continue\n",
        "            G[dir_id][crew_id]['weight'] = co_feat_count/role_frequency_among_movies[role] # update weights between director and crewmembers\n",
        "            weight_numerator=co_feat_count\n",
        "            weight_denominator=role_frequency_among_movies[role]\n",
        "            edge_attributes={'role':role, 'weight_numerator': weight_numerator, 'weight_denominator': weight_denominator} # creates attributes\n",
        "            nx.set_edge_attributes(G, {(dir_id, crew_id): edge_attributes}) # set attributes"
      ],
      "metadata": {
        "id": "twqBpBJuap5j"
      },
      "execution_count": null,
      "outputs": []
    },
    {
      "cell_type": "markdown",
      "source": [
        "### Network Visualization"
      ],
      "metadata": {
        "id": "w8mt9NIvOYK6"
      }
    },
    {
      "cell_type": "markdown",
      "source": [
        "The network visualizations were created using Gephi's (version 0.10 ) OpenOrd, and Yifan Hu layouts. The color of the nodes was set using a Gephi plug-in called \"Give Colors to Nodes\". "
      ],
      "metadata": {
        "id": "6wfrxdezQMzu"
      }
    },
    {
      "cell_type": "markdown",
      "source": [
        "![picture](https://drive.google.com/uc?export=view&id=1HkZuq8swxJ3Ntn4lqAjnChhlXfYKJtVT)\n"
      ],
      "metadata": {
        "id": "rgvhpnvO2f_Z"
      }
    },
    {
      "cell_type": "markdown",
      "source": [
        "The full network visualization was subsequently broken down by sex and renowned-ness and visualized as subnetworks highlighting those variables. For all subnetworks, a filter removing nodes with a numerator of one was applied to show crew members who had worked with a director at least twice. Then, for the subnetworks highlighting sex, the networks were filtered by giant connected component to only show nodes connected to the director of the selected sex. \n"
      ],
      "metadata": {
        "id": "VvNinH7m2guc"
      }
    },
    {
      "cell_type": "markdown",
      "source": [
        "**Network Highlighting Female Directors**\n",
        "\n",
        "![picture](https://drive.google.com/uc?export=view&id=1TB68Z-O7fFdu8RX6P4MMquAiOUOz1iH8)\n",
        "\n",
        "</br>\n",
        "\n",
        "**Network Highlighting Male Directors**\n",
        "![picture](https://drive.google.com/uc?export=view&id=1_vSTxDdw5F6bif1qmiCJPzrQe1wroZjm)\n",
        "\n",
        "\n"
      ],
      "metadata": {
        "id": "zvgNj6Pe46MW"
      }
    },
    {
      "cell_type": "markdown",
      "source": [
        "An additional k-core filter of two was applied for the network highlighting renowned-ness homogeneity. This was done to highlight crew members that worked with more than one director more than one time, showing that not only do renowned directors reuse the same crew members, but all renowned directors reuse the same crew members."
      ],
      "metadata": {
        "id": "trHgaTAC46YS"
      }
    },
    {
      "cell_type": "markdown",
      "source": [
        "![picture](https://drive.google.com/uc?export=view&id=1GiwOGA2w0oRCXXeur7lbOJOU1BVnnSkg)\n",
        "\n"
      ],
      "metadata": {
        "id": "OENQSVA72X24"
      }
    },
    {
      "cell_type": "markdown",
      "source": [
        "The rest of the data visualizations, those that are not networks, were created in Canva using the data obtained from the analysis portion of the project. These visualizations were created to highlight the distribution of each director's average homogeneity score and the distribution of directors who worked with crew members more than once.\n"
      ],
      "metadata": {
        "id": "eMC1RwVuQM5F"
      }
    },
    {
      "cell_type": "markdown",
      "source": [
        "![picture](https://drive.google.com/uc?export=view&id=1djdUyTVuI_fAJ7UFi0ahtr21VpvrSEEU)\n",
        "![picture](https://drive.google.com/uc?export=view&id=1pv12HXBS6hHS0oLyvJ6--yme3nDKCJIB)\n",
        "\n"
      ],
      "metadata": {
        "id": "pJhOFzmz6KP0"
      }
    },
    {
      "cell_type": "markdown",
      "source": [
        "### Network Analysis"
      ],
      "metadata": {
        "id": "h9fQ3X2sOYOc"
      }
    },
    {
      "cell_type": "markdown",
      "source": [
        "To calculate the homogeneity of a specific role, we used the formula: \n",
        "</br>\n",
        "</br>\n",
        "\n",
        " \n",
        "$$1 - \\displaystyle\\frac{\\mbox{# of unique crew members for that role}}{\\mbox{# crew members for that role}}$$\n",
        "\n",
        " \n",
        "</br>\n",
        "</br>\n",
        "\n",
        "We then created a few different functions to break down the process to calculate the average homogeneity through code.\n",
        "\n"
      ],
      "metadata": {
        "id": "rXog7qOvhrGR"
      }
    },
    {
      "cell_type": "markdown",
      "source": [
        "The function, homogeneity_score_test, was created to calculate the average homogeneity for a single director with a single role. We normalized the writing credits for this as well. We stored all crew members for a particular role in a list called new_store and the unique values from new_store into a list called store_unique. If a role was not present for certain director's films, we did not include it in the homogeneity score. The eqution was then implemented using the line called measure."
      ],
      "metadata": {
        "id": "0WgzyH7giOAK"
      }
    },
    {
      "cell_type": "code",
      "source": [
        "def homogeneity_score_test(data, role_name):\n",
        " store = []\n",
        " director_info = []\n",
        " new_store = []\n",
        " store_unique = []\n",
        " measure = 0\n",
        " for d in data:\n",
        "   if 'role' in d:\n",
        "     if d['role'].startswith(\"Writing Credits\"): # checks if 'role' parameter starts with 'Writing Credits'\n",
        "        d['role'] = \"Writing Credits\" # return writing credits if it does to normalize it.\n",
        "     if d['role'] == role_name: #holds onto each crew member with that role, including the director.\n",
        "       store += d['crew']\n",
        "     if d['role'] == 'Directed by':\n",
        "       director_info += d['crew']\n",
        " for item in store:\n",
        "   if item not in director_info:\n",
        "     new_store.append(item) #holds onto each crew member with that role across the movies, with the exception of the director.\n",
        " for item in new_store:\n",
        "   if item not in store_unique:\n",
        "     store_unique.append(item) #store_unique holds each unique crew member's name (doesn't include doubles)\n",
        " if len(new_store) < 1: #this if condition is meant to account for a role not having any crew members a director's movies, except for potentially the director\n",
        "   measure = -1\n",
        " else:\n",
        "   measure = 1 - (len(store_unique)/len(new_store)) #implements the homogeneity.\n",
        " return measure"
      ],
      "metadata": {
        "id": "tidYDO0TjeCK"
      },
      "execution_count": null,
      "outputs": []
    },
    {
      "cell_type": "markdown",
      "source": [
        "The next function, score_by_role_test, was created to calculate the average homogeneity of a single director with multiple roles. This function enforced the earlier homogeneity_score_test function. The roles we included were Sound Department, Makeup Department, Special Effects, Writing Credits, Film Editing, Cinematography, Music, Production Design, and Costume Design."
      ],
      "metadata": {
        "id": "RGAKHh07jfm_"
      }
    },
    {
      "cell_type": "markdown",
      "source": [
        "We then created a function called all_directors which implemented the score_by_role_test function to get the average homogeneity score of all directors. The homogeneity scores for each director were appended to a data frame created from the \"101_directors.csv\" file. This allowed us to gather various summary statistics, including the number of directors that fit into various categories, and generate mean homogeneity scores based on those categories. "
      ],
      "metadata": {
        "id": "GRok3VUvpGVC"
      }
    },
    {
      "cell_type": "markdown",
      "source": [
        "We also gathered summary statistics from Gephi to see the breakdowns of the roles across the network and to get information about things like average path length, average clustering coefficient, and graph density. Additionally, we gathered the number of movies each director directed and carried out the following function to implement it."
      ],
      "metadata": {
        "id": "wlHVfIuqpGiy"
      }
    },
    {
      "cell_type": "code",
      "source": [
        "def number_of_films_directed(data): #to help me get the number of films that one director had directed\n",
        " director_repetitions = []\n",
        " for d in data:\n",
        "   if 'role' in d:\n",
        "     if (d['role'] == 'Directed by'):\n",
        "       director_repetitions.append(d['crew'])\n",
        "       #print(d.get('crew'))\n",
        " return len(director_repetitions)"
      ],
      "metadata": {
        "id": "75ZCvBJgpNIb"
      },
      "execution_count": null,
      "outputs": []
    },
    {
      "cell_type": "markdown",
      "source": [
        "We placed it in another, larger function within a loop to have it run for every director."
      ],
      "metadata": {
        "id": "gIQU1DQkpOFQ"
      }
    },
    {
      "cell_type": "markdown",
      "source": [
        "Ultimately, the average homogeneity function helped us to work on the first research question, and examining information from Gephi helped us explore the second research question. To answer the third research question, we thought interesting nodes could be family members. Therefore, we took a closer look at nodes such as Lilly and Lana Wachowski and Sofia and Francis Ford Coppola."
      ],
      "metadata": {
        "id": "FkGQqCTAp3xL"
      }
    },
    {
      "cell_type": "markdown",
      "source": [
        "## Results "
      ],
      "metadata": {
        "id": "4De4EBpzOYQq"
      }
    },
    {
      "cell_type": "markdown",
      "source": [
        "#### How widespread is the phenomenon of directors re-using the same crew?\n"
      ],
      "metadata": {
        "id": "bKsPSpE0rTUM"
      }
    },
    {
      "cell_type": "markdown",
      "source": [
        "Based on our homogeneity metric results and the general distribution of directors who have worked with crew members more than one, we do not believe that the phenomenon of directors re-using the same crew is widespread. However, within some subgroups it is more common. "
      ],
      "metadata": {
        "id": "Q3OcNNzc1fpi"
      }
    },
    {
      "cell_type": "markdown",
      "source": [
        "#### Do renowned directors (and women/minority directors) tend to work persistently with the same key collaborators and less recognized directors tend to work with shifting groups of collaborators?\n"
      ],
      "metadata": {
        "id": "nU5Dh1xtrV_F"
      }
    },
    {
      "cell_type": "markdown",
      "source": [
        "Men tend to work with the same collaborators more often than women.\n",
        "\n",
        "Higher grossing directors also tend to work with the same collaborators more often than LGBTQ directors.\n",
        "\n",
        "White directors tend to work with the same collaborators more often than other racial groups. \n",
        "\n",
        "Latin American directors on the other hand tend to work most often with shifting collaborators.\n",
        "\n",
        "</br>\n",
        "\n",
        "In terms of attributes about directors that made it onto this list, the majority of them were white males. The smallest groups of directors were Native American (Sterlin Harjo) or indigenous (Taika Waititi).\n",
        "\n"
      ],
      "metadata": {
        "id": "cX4XiybUrep8"
      }
    },
    {
      "cell_type": "markdown",
      "source": [
        "| Sex         | Average Homogeneity |\n",
        "| ----------- | -----------         |\n",
        "| Female      | .188202             |\n",
        "| Male        | .292182             |"
      ],
      "metadata": {
        "id": "2SjFeEWdtvPC"
      }
    },
    {
      "cell_type": "markdown",
      "source": [
        "| Labels      | Average Homogeneity |\n",
        "| ----------- | -----------         |\n",
        "| H.          | .364000             |\n",
        "| Q.          | .237449             |"
      ],
      "metadata": {
        "id": "Mndu3HzgufAe"
      }
    },
    {
      "cell_type": "markdown",
      "source": [
        "| Ethnicity/Race| Average Homogeneity |\n",
        "| -----------   | -----------         |\n",
        "| A             | .197885             |\n",
        "| B             | .246266             |\n",
        "| I             | .238936             |\n",
        "| L             | .182010             |\n",
        "| N             | .204630             |\n",
        "| W             | .285302             |"
      ],
      "metadata": {
        "id": "vVV6TYWwvfa0"
      }
    },
    {
      "cell_type": "markdown",
      "source": [
        "|Sex | Ethnicity/Race| Count |\n",
        "|----| -----------   | ------|\n",
        "|F| A                | 3     |\n",
        "| | B                | 4     |\n",
        "| | W                | 20    |\n",
        "|M| A                | 8     |\n",
        "| | B                | 9     |\n",
        "| | I                | 1     |\n",
        "| | L                | 5     |\n",
        "| | N                | 1     |\n",
        "| | W                | 50    |"
      ],
      "metadata": {
        "id": "YfJugjb0xAHk"
      }
    },
    {
      "cell_type": "markdown",
      "source": [
        "| Labels | Sex | Ethnicity/Race | Count |\n",
        "| ------ | --- | -------------- | ------|\n",
        "|H       | M   | A              | 1     |\n",
        "|        |     | W              | 19    |\n",
        "|Q       | F   | B              | 1     |\n",
        "|        |     | W              | 2     |\n",
        "|        | M   | A              | 1     |\n",
        "|        |     | B              | 1     |\n",
        "|        |     | W              | 2     |"
      ],
      "metadata": {
        "id": "4pvCMo7PybZV"
      }
    },
    {
      "cell_type": "markdown",
      "source": [],
      "metadata": {
        "id": "EHa_0wNez5FW"
      }
    },
    {
      "cell_type": "markdown",
      "source": [
        "#### How will you characterize the film-director network? What are the properties (Average shortest path length, triangles aka clustering coefficient, density/sparsity)?\n"
      ],
      "metadata": {
        "id": "B1M1BiAEr3ve"
      }
    },
    {
      "cell_type": "markdown",
      "source": [
        "Nodes: 25141\n",
        "\n",
        "Edges: 56314\n",
        "\n",
        "Average Path length: 1.4389336788559364\n",
        "\n",
        "Average Clustering Coefficient: 0.02\n",
        "\n",
        "Density/Sparsity: 0.00008909812\n",
        "\n"
      ],
      "metadata": {
        "id": "laUYtDC8sCce"
      }
    },
    {
      "cell_type": "markdown",
      "source": [
        "**What all of this information tells us about the network:**\n",
        "\n",
        "A lot of the people in the network do not know each other/have any relationship with each other.\n",
        "\n",
        "The network is very sparse - that's also why the clustering coefficient is so low as well."
      ],
      "metadata": {
        "id": "5w2S2nl9sTZ1"
      }
    },
    {
      "cell_type": "markdown",
      "source": [
        "#### Did you find any interesting nodes/links?"
      ],
      "metadata": {
        "id": "_xG2Z1EzswUv"
      }
    },
    {
      "cell_type": "markdown",
      "source": [
        "All crew members with edge weight of one - they have worked with that director every time. There are several crew members that we've been able to identify that have an edge_weight of one. Most of them are in the Special Effects department which we thought was interesting."
      ],
      "metadata": {
        "id": "WAvWhxh9szoj"
      }
    },
    {
      "cell_type": "markdown",
      "source": [
        "Other interesting nodes include directors that are related. Their homogeneity scores are very similar. We examined 4 nodes in the dataset that were made up of directors who were related. Francis Ford Coppola's average homogeneity score is 0.309627 while his daughter Sofia Coppola's average homogeneity score is 0.288367. Meanwhile, Lilly Wachowski's average homogeneity score is 0.376583 while Lana Wachowski's average homogeneity score is 0.383186.\n"
      ],
      "metadata": {
        "id": "uC17fE_BtKpu"
      }
    },
    {
      "cell_type": "markdown",
      "source": [
        "## Conclusion \n",
        "\n"
      ],
      "metadata": {
        "id": "kgvknWfzO0yL"
      }
    },
    {
      "cell_type": "markdown",
      "source": [
        "We hypothesized that directors would reuse their crewmembers often - our analysis concludes otherwise. Our research indicates that crewmembers used at least twice occur in an average of 10% of all directors. However, it is still not uncommon for directors to work with a core group of collaborators. As our research further indicates, directors often reuse those in specific departments, such as music and film editing, while sound and makeup are the least reused. Music and film editing directly affect the audience's experience while watching a film. While the roles of sound and makeup are important, they may not offer as many opportunities for recurring collaborations. While the director's vision guides the overall sound design, sound production's technical and detailed nature may lead to working with different sound designers depending on the project. Similarly, with makeup departments, makeup artists must cater specific needs of characters and visual aesthetics of a film, leading to a broader range of collaborators."
      ],
      "metadata": {
        "id": "yEdzMiP9RkdZ"
      }
    }
  ]
}